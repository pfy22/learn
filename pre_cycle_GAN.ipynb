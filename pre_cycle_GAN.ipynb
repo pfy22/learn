{
 "cells": [
  {
   "cell_type": "markdown",
   "metadata": {},
   "source": [
    "### 定义一个ResNetGenerator类"
   ]
  },
  {
   "cell_type": "code",
   "execution_count": null,
   "metadata": {},
   "outputs": [],
   "source": [
    "import torch\n",
    "import torch.nn as nn\n",
    "torch.cuda.is_available()"
   ]
  },
  {
   "cell_type": "code",
   "execution_count": null,
   "metadata": {},
   "outputs": [],
   "source": [
    "dir(nn.Module)"
   ]
  },
  {
   "cell_type": "code",
   "execution_count": null,
   "metadata": {},
   "outputs": [],
   "source": [
    "class ResNetBlock(nn.Module):\n",
    "    def __init__(self, dim):\n",
    "        super().__init__()\n",
    "        self.conv_block = self.build_conv_block(dim)  # 传入通道数dim，注意此模块的输入输出通道数相同\n",
    "    \n",
    "    def build_conv_block(self, dim):\n",
    "        conv_block = []\n",
    "        # 添加一个2维反射填充层，反射层宽度为1。关于反射填充层的具体知识可参考：https://blog.csdn.net/qq_43665602/article/details/126593617\n",
    "        conv_block += [nn.ReflectionPad2d(1)]\n",
    "        # 添加其他的模块，包括2维卷积层Conv2d、实例归一化层InstanceNorm2d、激活层ReLU\n",
    "        conv_block += [nn.Conv2d(dim, dim, kernel_size=3, padding=0, bias=True), # bias表示在卷积层中使用【偏置项】，即在每次卷积计算后加一个常量b\n",
    "                       nn.InstanceNorm2d(dim),\n",
    "                       nn.ReLU(True)]\n",
    "        \n",
    "        conv_block += [nn.ReflectionPad2d(1)]\n",
    "\n",
    "        conv_block += [nn.Conv2d(dim, dim, kernel_size=3, padding=0, bias=True),\n",
    "                       nn.InstanceNorm2d(dim)]\n",
    "        \n",
    "        # *conv_block代表拆包（unpacking），将【列表】中的每个元素作为单独的参数传递给nn.Sequential()\n",
    "        return nn.Sequential(*conv_block)\n",
    "    \n",
    "    def forward(self, x):\n",
    "        output = x + self.conv_block(x)  # self.conv_block(x)是在__init__()里面的函数返回值\n",
    "        \n",
    "        return output"
   ]
  },
  {
   "cell_type": "code",
   "execution_count": null,
   "metadata": {},
   "outputs": [],
   "source": [
    "class ResNetGenerator(nn.Module):\n",
    "\n",
    "    def __init__(self, input_nc=3, output_nc=3, nfg=64, n_blocks=9):\n",
    "        assert(n_blocks >= 0)\n",
    "        super().__init__()\n",
    "\n",
    "        self.input_nc = input_nc\n",
    "        self.output_nc = output_nc\n",
    "        self.nfg = nfg\n",
    "\n",
    "        model = [nn.ReflectionPad2d(3), \n",
    "                 nn.Conv2d(input_nc, nfg, kernel_size=7, padding=0, bias=True),\n",
    "                 nn.InstanceNorm2d(nfg),\n",
    "                 nn.ReLU(True)\n",
    "                 ]\n",
    "        \n",
    "        # 确定下采样次数\n",
    "        n_downsampling = 2\n",
    "        for i in range(n_downsampling):\n",
    "            mult = 2**i\n",
    "            model += [nn.Conv2d(nfg*mult, nfg*mult*2, kernel_size=3, stride=2, padding=1, bias=True),\n",
    "                      nn.InstanceNorm2d(nfg*mult*2),\n",
    "                      nn.ReLU(True)]\n",
    "            \n",
    "        mult = 2**n_downsampling\n",
    "        for i in range(n_blocks):\n",
    "            model += [ResNetBlock(nfg*mult)]   # ResNetBlock模块的输入输出通道数相同\n",
    "\n",
    "        for i in range(n_downsampling):\n",
    "            mult = 2**(n_downsampling-i)   # 第一轮mult=4，第二轮mult=2\n",
    "            # 添加一个反卷积（上采样）层，用于增大图片尺寸（清晰度）\n",
    "            model += [nn.ConvTranspose2d(nfg*mult, int(nfg*mult/2), # 第二轮这里就是nfg，故输出通道数就是nfg\n",
    "                                          kernel_size=3, stride=2, padding=1,\n",
    "                                          output_padding=1, bias=True),\n",
    "                      nn.InstanceNorm2d(int(nfg*mult/2)),\n",
    "                      nn.ReLU(True)]\n",
    "        \n",
    "        # 添加一个宽度为3的反射填充层\n",
    "        model += [nn.ReflectionPad2d(3)]\n",
    "        model += [nn.Conv2d(nfg, output_nc, kernel_size=7, padding=0)]     # 上一个循环结束，输出通道数为nfg\n",
    "        model += [nn.Tanh()]\n",
    "\n",
    "        self.model = nn.Sequential(*model)\n",
    "    \n",
    "    def forward(self, input):\n",
    "        self.output = self.model(input)\n",
    "        return self.output       \n"
   ]
  },
  {
   "cell_type": "code",
   "execution_count": null,
   "metadata": {},
   "outputs": [],
   "source": [
    "# 定义\n",
    "netG = ResNetGenerator()"
   ]
  },
  {
   "cell_type": "code",
   "execution_count": null,
   "metadata": {},
   "outputs": [],
   "source": [
    "# 读取预训练权重\n",
    "model_path = '../data/p1ch2/horse2zebra_0.4.0.pth'\n",
    "netG.load_state_dict(torch.load(model_path))"
   ]
  },
  {
   "cell_type": "code",
   "execution_count": null,
   "metadata": {},
   "outputs": [],
   "source": [
    "# 进入评估模式\n",
    "netG.eval()"
   ]
  },
  {
   "cell_type": "code",
   "execution_count": null,
   "metadata": {},
   "outputs": [],
   "source": [
    "# 预览图片\n",
    "from PIL import Image\n",
    "img = Image.open(\"../data/p1ch2/horse.jpg\")\n",
    "img"
   ]
  },
  {
   "cell_type": "code",
   "execution_count": null,
   "metadata": {},
   "outputs": [],
   "source": [
    "# 预处理图片\n",
    "from torchvision import transforms\n",
    "\n",
    "preprocess = transforms.Compose([transforms.Resize(256), transforms.ToTensor()])\n",
    "img_t = preprocess(img)\n",
    "\n",
    "# 检查此时图片的数据格式，应该是tensor\n",
    "type(img_t)"
   ]
  },
  {
   "cell_type": "code",
   "execution_count": null,
   "metadata": {},
   "outputs": [],
   "source": [
    "# 增加一个维度，将数据变成批次\n",
    "batch_in = torch.unsqueeze(img_t, 0)"
   ]
  },
  {
   "cell_type": "code",
   "execution_count": null,
   "metadata": {},
   "outputs": [],
   "source": [
    "# 将数据输入模型\n",
    "batch_out = netG(batch_in)\n",
    "# 检查此时的张量尺寸，其中第0个维度是批次\n",
    "batch_out.shape"
   ]
  },
  {
   "cell_type": "code",
   "execution_count": null,
   "metadata": {},
   "outputs": [],
   "source": [
    "# 去掉第0个维度，将批次改为单个样本\n",
    "sample_out = torch.squeeze(batch_out, dim=0)\n",
    "# 检查样本维度\n",
    "sample_out.shape"
   ]
  },
  {
   "cell_type": "code",
   "execution_count": null,
   "metadata": {},
   "outputs": [],
   "source": [
    "# 将图像进行归一化操作，把原本处于[-1, 1]区间的数值映射到[0, 1]区间中，增加亮度提高视觉效果\n",
    "sample_out = (sample_out + 1) / 2"
   ]
  },
  {
   "cell_type": "code",
   "execution_count": null,
   "metadata": {},
   "outputs": [],
   "source": [
    "# 定义一个可以将张量转换成图像的对象\n",
    "transformer_img = transforms.ToPILImage()\n",
    "out_img = transformer_img(sample_out)\n",
    "# out_img.save('../data/p1ch2/zebra.jpg')  \n",
    "out_img"
   ]
  }
 ],
 "metadata": {
  "kernelspec": {
   "display_name": "CV",
   "language": "python",
   "name": "python3"
  },
  "language_info": {
   "codemirror_mode": {
    "name": "ipython",
    "version": 3
   },
   "file_extension": ".py",
   "mimetype": "text/x-python",
   "name": "python",
   "nbconvert_exporter": "python",
   "pygments_lexer": "ipython3",
   "version": "3.11.2"
  }
 },
 "nbformat": 4,
 "nbformat_minor": 2
}
